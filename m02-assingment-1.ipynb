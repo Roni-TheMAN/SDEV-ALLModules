{
 "cells": [
  {
   "cell_type": "code",
   "outputs": [
    {
     "name": "stdout",
     "output_type": "stream",
     "text": [
      "1\n",
      "too high\n"
     ]
    }
   ],
   "source": [
    "# 4.1\n",
    "import random\n",
    "\n",
    "secret = random.randint(1,10) # Choose a number between 1 and 10\n",
    "guess = int(input(\"Enter your Guess NUmber Between 1-10\"))  # Choose another number between 1 and 10\n",
    "print(secret)\n",
    "if guess < secret:\n",
    "    print('too low')\n",
    "elif guess > secret:\n",
    "    print('too high')\n",
    "else:\n",
    "    print('just right')"
   ],
   "metadata": {
    "collapsed": false,
    "ExecuteTime": {
     "end_time": "2024-03-29T00:30:20.614832Z",
     "start_time": "2024-03-29T00:30:20.609233Z"
    }
   },
   "id": "6cf5413f68b085db",
   "execution_count": 14
  },
  {
   "cell_type": "code",
   "outputs": [
    {
     "name": "stdout",
     "output_type": "stream",
     "text": [
      "watermelon\n"
     ]
    }
   ],
   "source": [
    "# 4.2\n",
    "small = input(\"Is the Food Small/ Enter True or False: \")\n",
    "if small.lower() == 'true':\n",
    "    small = True\n",
    "elif small.lower() == 'false':\n",
    "    small = False\n",
    "else:\n",
    "    print(\"Invalid input! Please enter either 'True' or 'False'.\")\n",
    "green = input(\"Is the Food Green/ Enter True or False: \")\n",
    "if green.lower() == 'true':\n",
    "    green = True\n",
    "elif green.lower() == 'false':\n",
    "    green = False\n",
    "else:\n",
    "    print(\"Invalid input! Please enter either 'True' or 'False'.\")\n",
    "    \n",
    "\n",
    "if small and green:\n",
    "    print('pea')\n",
    "elif not small and green:\n",
    "    print('watermelon')\n",
    "elif small and not green:\n",
    "    print('cherry')\n",
    "else:\n",
    "    print('pumpkin')"
   ],
   "metadata": {
    "collapsed": false,
    "ExecuteTime": {
     "end_time": "2024-03-29T00:38:11.370128Z",
     "start_time": "2024-03-29T00:38:05.378653Z"
    }
   },
   "id": "a1656725551134ab",
   "execution_count": 18
  },
  {
   "cell_type": "code",
   "outputs": [
    {
     "name": "stdout",
     "output_type": "stream",
     "text": [
      "3\n",
      "2\n",
      "1\n",
      "0\n"
     ]
    }
   ],
   "source": [
    "# 6.1\n",
    "for num in [3, 2, 1, 0]:\n",
    "    print(num)"
   ],
   "metadata": {
    "collapsed": false,
    "ExecuteTime": {
     "end_time": "2024-03-29T00:29:21.879127Z",
     "start_time": "2024-03-29T00:29:21.863869Z"
    }
   },
   "id": "e98f3422a5b7f73",
   "execution_count": 14
  },
  {
   "cell_type": "code",
   "outputs": [
    {
     "name": "stdout",
     "output_type": "stream",
     "text": [
      "too low\n",
      "too low\n",
      "too low\n",
      "too low\n",
      "too low\n",
      "too low\n",
      "found it!\n"
     ]
    }
   ],
   "source": [
    "# 6.2\n",
    "guess_me = 7\n",
    "number = 1\n",
    "\n",
    "while number <= guess_me:\n",
    "    if number < guess_me:\n",
    "        print('too low')\n",
    "    elif number == guess_me:\n",
    "        print('found it!')\n",
    "        break\n",
    "    else:\n",
    "        print('oops')\n",
    "        break\n",
    "    number += 1"
   ],
   "metadata": {
    "collapsed": false,
    "ExecuteTime": {
     "end_time": "2024-03-29T00:29:22.599856Z",
     "start_time": "2024-03-29T00:29:22.593596Z"
    }
   },
   "id": "fe1dcd7378c0c2d7",
   "execution_count": 15
  },
  {
   "cell_type": "code",
   "outputs": [
    {
     "name": "stdout",
     "output_type": "stream",
     "text": [
      "too low\n",
      "too low\n",
      "too low\n",
      "too low\n",
      "too low\n",
      "found it!\n"
     ]
    }
   ],
   "source": [
    "# 6.3\n",
    "guess_me = 5\n",
    "\n",
    "for number in range(10):\n",
    "    if number < guess_me:\n",
    "        print('too low')\n",
    "    elif number == guess_me:\n",
    "        print('found it!')\n",
    "        break\n",
    "    else:\n",
    "        print('oops')\n",
    "        break"
   ],
   "metadata": {
    "collapsed": false,
    "ExecuteTime": {
     "end_time": "2024-03-29T00:27:53.531366Z",
     "start_time": "2024-03-29T00:27:53.525604Z"
    }
   },
   "id": "e6a9f5bba2a9f55",
   "execution_count": 5
  }
 ],
 "metadata": {
  "kernelspec": {
   "display_name": "Python 3",
   "language": "python",
   "name": "python3"
  },
  "language_info": {
   "codemirror_mode": {
    "name": "ipython",
    "version": 2
   },
   "file_extension": ".py",
   "mimetype": "text/x-python",
   "name": "python",
   "nbconvert_exporter": "python",
   "pygments_lexer": "ipython2",
   "version": "2.7.6"
  }
 },
 "nbformat": 4,
 "nbformat_minor": 5
}
