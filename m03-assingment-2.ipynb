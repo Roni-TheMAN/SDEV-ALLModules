n = 5
arr = [0,2,1,0,2]
class Solution:
    def sort012(self,arr,n):
        # code here
        arr.sort()
        output = ""

        for i in arr:
            output += str(i)
            output += " "
        print(output)

sol = Solution()

sol.sort012(arr,n)

#%%
def binarysearch(arr, N, K):
    left = 0
    right = N - 1

    while left <= right:
        mid = (left + right) // 2
        if arr[mid] == K:
            return mid  # Found K at index mid
        elif arr[mid] < K:
            left = mid + 1  # Search in the right half
        else:
            right = mid - 1  # Search in the left half

    return -1  # K not found in the array

# Example usage:
arr1 = [1, 2, 3, 4, 5]
N1 = 5
K1 = 4
print(binarysearch(arr1, N1, K1))  # Output: 3 (K=4 is at index 3)

arr2 = [11, 22, 33, 44, 55]
N2 = 5
K2 = 445
print(binarysearch(arr2, N2, K2))  # Output: -1 (K=445 is not in the array)

