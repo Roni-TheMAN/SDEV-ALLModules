{
 "cells": [
  {
   "cell_type": "code",
   "outputs": [
    {
     "name": "stdout",
     "output_type": "stream",
     "text": [
      "0 0 1 2 2 \n"
     ]
    }
   ],
   "source": [
    "n = 5\n",
    "arr = [0,2,1,0,2]\n",
    "class Solution:\n",
    "    def sort012(self,arr,n):\n",
    "        # code here\n",
    "        arr.sort()\n",
    "        output = \"\"\n",
    "\n",
    "        for i in arr:\n",
    "            output += str(i)\n",
    "            output += \" \"\n",
    "        print(output)\n",
    "\n",
    "sol = Solution()\n",
    "\n",
    "sol.sort012(arr,n)\n"
   ],
   "metadata": {
    "collapsed": false,
    "ExecuteTime": {
     "end_time": "2024-04-05T01:56:31.159815Z",
     "start_time": "2024-04-05T01:56:31.153023Z"
    }
   },
   "id": "initial_id",
   "execution_count": 9
  },
  {
   "cell_type": "code",
   "outputs": [
    {
     "name": "stdout",
     "output_type": "stream",
     "text": [
      "3\n",
      "-1\n"
     ]
    }
   ],
   "source": [
    "def binarysearch(arr, N, K):\n",
    "    left = 0\n",
    "    right = N - 1\n",
    "\n",
    "    while left <= right:\n",
    "        mid = (left + right) // 2\n",
    "        if arr[mid] == K:\n",
    "            return mid  # Found K at index mid\n",
    "        elif arr[mid] < K:\n",
    "            left = mid + 1  # Search in the right half\n",
    "        else:\n",
    "            right = mid - 1  # Search in the left half\n",
    "\n",
    "    return -1  # K not found in the array\n",
    "\n",
    "# Example usage:\n",
    "arr1 = [1, 2, 3, 4, 5]\n",
    "N1 = 5\n",
    "K1 = 4\n",
    "print(binarysearch(arr1, N1, K1))  # Output: 3 (K=4 is at index 3)\n",
    "\n",
    "arr2 = [11, 22, 33, 44, 55]\n",
    "N2 = 5\n",
    "K2 = 445\n",
    "print(binarysearch(arr2, N2, K2))  # Output: -1 (K=445 is not in the array)\n",
    "\n"
   ],
   "metadata": {
    "collapsed": false,
    "ExecuteTime": {
     "end_time": "2024-04-05T02:31:05.843416Z",
     "start_time": "2024-04-05T02:31:05.835190Z"
    }
   },
   "id": "4d47d3376e248cab",
   "execution_count": 11
  },
  {
   "cell_type": "code",
   "outputs": [],
   "source": [],
   "metadata": {
    "collapsed": false
   },
   "id": "6204baabda5a7f5"
  }
 ],
 "metadata": {
  "kernelspec": {
   "display_name": "Python 3",
   "language": "python",
   "name": "python3"
  },
  "language_info": {
   "codemirror_mode": {
    "name": "ipython",
    "version": 2
   },
   "file_extension": ".py",
   "mimetype": "text/x-python",
   "name": "python",
   "nbconvert_exporter": "python",
   "pygments_lexer": "ipython2",
   "version": "2.7.6"
  }
 },
 "nbformat": 4,
 "nbformat_minor": 5
}
