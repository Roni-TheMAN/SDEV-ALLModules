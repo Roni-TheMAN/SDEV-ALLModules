{
 "cells": [
  {
   "cell_type": "code",
   "execution_count": 33,
   "id": "initial_id",
   "metadata": {
    "collapsed": true,
    "ExecuteTime": {
     "end_time": "2024-04-05T01:25:25.762482Z",
     "start_time": "2024-04-05T01:25:25.757625Z"
    }
   },
   "outputs": [],
   "source": [
    "# 7.4 Make a list called things with these three strings as elements: \"mozzarella\", \"cinderella\", \"salmonella\".\n",
    "\n",
    "things = [\"mozzarella\", \"cinderella\", \"salmonella\"]"
   ]
  },
  {
   "cell_type": "code",
   "outputs": [
    {
     "name": "stdout",
     "output_type": "stream",
     "text": [
      "['mozzarella', 'Cinderella', 'salmonella']\n"
     ]
    }
   ],
   "source": [
    "# 7.5 Capitalize the element in things that refers to a person and then print the list. Did it change the element in the list?\n",
    "\n",
    "things[1] = things[1].capitalize()\n",
    "print(things)"
   ],
   "metadata": {
    "collapsed": false,
    "ExecuteTime": {
     "end_time": "2024-04-05T01:25:25.769201Z",
     "start_time": "2024-04-05T01:25:25.764740Z"
    }
   },
   "id": "eef630f92f874978",
   "execution_count": 34
  },
  {
   "cell_type": "code",
   "outputs": [
    {
     "name": "stdout",
     "output_type": "stream",
     "text": [
      "['MOZZARELLA', 'Cinderella', 'salmonella']\n"
     ]
    }
   ],
   "source": [
    "# 7.6 Make the cheesy element of things all uppercase and then print the list.\n",
    "\n",
    "things[0] = things[0].upper()\n",
    "print(things)"
   ],
   "metadata": {
    "collapsed": false,
    "ExecuteTime": {
     "end_time": "2024-04-05T01:25:25.777396Z",
     "start_time": "2024-04-05T01:25:25.772525Z"
    }
   },
   "id": "292ef308dbdd6218",
   "execution_count": 35
  },
  {
   "cell_type": "code",
   "outputs": [
    {
     "name": "stdout",
     "output_type": "stream",
     "text": [
      "['MOZZARELLA', 'Cinderella']\n"
     ]
    }
   ],
   "source": [
    "# 7.7 Delete the disease element from things, collect your Nobel Prize, and print the list.\n",
    "\n",
    "del things[2]\n",
    "print(things)"
   ],
   "metadata": {
    "collapsed": false,
    "ExecuteTime": {
     "end_time": "2024-04-05T01:25:25.783162Z",
     "start_time": "2024-04-05T01:25:25.778563Z"
    }
   },
   "id": "ccdf052eba939b6e",
   "execution_count": 36
  },
  {
   "cell_type": "code",
   "outputs": [
    {
     "data": {
      "text/plain": "['Harry', 'Ron', 'Hermione']"
     },
     "execution_count": 37,
     "metadata": {},
     "output_type": "execute_result"
    }
   ],
   "source": [
    "# 9.1 Define a function called good() that returns the following list: ['Harry', 'Ron', 'Hermione'].\n",
    "\n",
    "list_name = ['Harry', 'Ron', 'Hermione']\n",
    "def good():\n",
    "    return list_name\n",
    "\n",
    "good()"
   ],
   "metadata": {
    "collapsed": false,
    "ExecuteTime": {
     "end_time": "2024-04-05T01:25:25.802221Z",
     "start_time": "2024-04-05T01:25:25.797112Z"
    }
   },
   "id": "8780012c0445609c",
   "execution_count": 37
  },
  {
   "cell_type": "code",
   "outputs": [
    {
     "name": "stdout",
     "output_type": "stream",
     "text": [
      "1\n",
      "3\n",
      "5\n",
      "7\n",
      "9\n"
     ]
    }
   ],
   "source": [
    "# 9.2 Define a generator function called get_odds() that returns the odd numbers from range(10). Use a for loop to find and print the third value returned.\n",
    "\n",
    "def get_odds():\n",
    "    for i in range(10):\n",
    "        if i%2 == 1:\n",
    "            print(i)\n",
    "get_odds()"
   ],
   "metadata": {
    "collapsed": false,
    "ExecuteTime": {
     "end_time": "2024-04-05T01:25:25.807582Z",
     "start_time": "2024-04-05T01:25:25.804173Z"
    }
   },
   "id": "2ca8e0c53805e272",
   "execution_count": 38
  },
  {
   "cell_type": "code",
   "outputs": [],
   "source": [],
   "metadata": {
    "collapsed": false,
    "ExecuteTime": {
     "end_time": "2024-04-05T01:25:25.810326Z",
     "start_time": "2024-04-05T01:25:25.808586Z"
    }
   },
   "id": "96dd47440e7c9b53",
   "execution_count": 38
  },
  {
   "cell_type": "code",
   "outputs": [],
   "source": [],
   "metadata": {
    "collapsed": false,
    "ExecuteTime": {
     "end_time": "2024-04-05T01:25:25.813130Z",
     "start_time": "2024-04-05T01:25:25.811340Z"
    }
   },
   "id": "b599f5122b7c905b",
   "execution_count": 38
  }
 ],
 "metadata": {
  "kernelspec": {
   "display_name": "Python 3",
   "language": "python",
   "name": "python3"
  },
  "language_info": {
   "codemirror_mode": {
    "name": "ipython",
    "version": 2
   },
   "file_extension": ".py",
   "mimetype": "text/x-python",
   "name": "python",
   "nbconvert_exporter": "python",
   "pygments_lexer": "ipython2",
   "version": "2.7.6"
  }
 },
 "nbformat": 4,
 "nbformat_minor": 5
}
