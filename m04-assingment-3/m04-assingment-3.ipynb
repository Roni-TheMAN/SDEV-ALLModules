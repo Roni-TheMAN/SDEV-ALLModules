# 11.1
import zoo

zoo.hours()
#%%
# 11.2
import zoo as menagerie

menagerie.hours()
#%%
# 16.8
import sqlite3
db = sqlite3.connect('books.db')
cursor = db.cursor()
cursor.execute('''CREATE TABLE books
    (title VARCHAR(20) PRIMARY KEY,
     author VARCHAR(20),
     year INT)''')
#%%
cursor.execute('INSERT INTO books VALUES("wing of fire", "APJ ", 1998)')

#%%
import sqlalchemy as sa
conn = sa.create_engine('sqlite://books,db')
#%%

#%%
