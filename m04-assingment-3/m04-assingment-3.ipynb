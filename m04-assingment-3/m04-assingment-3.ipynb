{
 "cells": [
  {
   "cell_type": "code",
   "execution_count": null,
   "id": "initial_id",
   "metadata": {
    "collapsed": true
   },
   "outputs": [],
   "source": [
    "# 11.1\n",
    "import zoo\n",
    "\n",
    "zoo.hours()"
   ]
  },
  {
   "cell_type": "code",
   "outputs": [],
   "source": [
    "# 11.2\n",
    "import zoo as menagerie\n",
    "\n",
    "menagerie.hours()"
   ],
   "metadata": {
    "collapsed": false
   },
   "id": "b5aea5831773d808",
   "execution_count": null
  },
  {
   "cell_type": "code",
   "outputs": [],
   "source": [
    "# 16.8\n",
    "import sqlite3\n",
    "db = sqlite3.connect('books.db')\n",
    "cursor = db.cursor()\n",
    "cursor.execute('''CREATE TABLE books\n",
    "    (title VARCHAR(20) PRIMARY KEY,\n",
    "     author VARCHAR(20),\n",
    "     year INT)''')"
   ],
   "metadata": {
    "collapsed": false
   },
   "id": "ea72ad509b0d3b8e",
   "execution_count": null
  },
  {
   "cell_type": "code",
   "outputs": [],
   "source": [
    "cursor.execute('INSERT INTO books VALUES(\"wing of fire\", \"APJ \", 1998)')\n"
   ],
   "metadata": {
    "collapsed": false
   },
   "id": "1a31775bfad416c1",
   "execution_count": null
  },
  {
   "cell_type": "code",
   "outputs": [],
   "source": [
    "import sqlalchemy as sa\n",
    "conn = sa.create_engine('sqlite://books,db')"
   ],
   "metadata": {
    "collapsed": false
   },
   "id": "184201db9343a3e6"
  },
  {
   "cell_type": "code",
   "outputs": [],
   "source": [],
   "metadata": {
    "collapsed": false
   },
   "id": "8a16ace35cbb3ea5"
  },
  {
   "cell_type": "code",
   "outputs": [],
   "source": [],
   "metadata": {
    "collapsed": false
   },
   "id": "d572c8586d2128cd"
  }
 ],
 "metadata": {
  "kernelspec": {
   "display_name": "Python 3",
   "language": "python",
   "name": "python3"
  },
  "language_info": {
   "codemirror_mode": {
    "name": "ipython",
    "version": 2
   },
   "file_extension": ".py",
   "mimetype": "text/x-python",
   "name": "python",
   "nbconvert_exporter": "python",
   "pygments_lexer": "ipython2",
   "version": "2.7.6"
  }
 },
 "nbformat": 4,
 "nbformat_minor": 5
}
