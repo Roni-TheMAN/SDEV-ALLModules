{
 "cells": [
  {
   "cell_type": "code",
   "execution_count": 13,
   "id": "initial_id",
   "metadata": {
    "collapsed": true,
    "ExecuteTime": {
     "end_time": "2024-04-25T01:29:44.045879Z",
     "start_time": "2024-04-25T01:29:44.018293Z"
    }
   },
   "outputs": [],
   "source": [
    "from datetime import datetime\n",
    "\n",
    "# Get the current date and format it as a string\n",
    "current_date = datetime.now().strftime('%Y-%m-%d')\n",
    "\n",
    "# Write the date string to the file today.txt\n",
    "with open('today.txt', 'w') as file:\n",
    "    file.write(current_date)"
   ]
  },
  {
   "cell_type": "code",
   "outputs": [
    {
     "name": "stdout",
     "output_type": "stream",
     "text": [
      "2024-04-24\n"
     ]
    }
   ],
   "source": [
    "# Read the contents of today.txt into today_string\n",
    "with open('today.txt', 'r') as file:\n",
    "    today_string = file.read()\n",
    "\n",
    "print(today_string)  # Just to verify the content"
   ],
   "metadata": {
    "collapsed": false,
    "ExecuteTime": {
     "end_time": "2024-04-25T01:29:44.087226Z",
     "start_time": "2024-04-25T01:29:44.067746Z"
    }
   },
   "id": "182b23d61400b90f",
   "execution_count": 14
  },
  {
   "cell_type": "code",
   "outputs": [
    {
     "name": "stdout",
     "output_type": "stream",
     "text": [
      "2024-04-24 00:00:00\n"
     ]
    }
   ],
   "source": [
    "from datetime import datetime\n",
    "\n",
    "# Parse the date from today_string\n",
    "parsed_date = datetime.strptime(today_string, '%Y-%m-%d')\n",
    "\n",
    "print(parsed_date)  # Print the parsed date"
   ],
   "metadata": {
    "collapsed": false,
    "ExecuteTime": {
     "end_time": "2024-04-25T01:29:44.131165Z",
     "start_time": "2024-04-25T01:29:44.115998Z"
    }
   },
   "id": "4119029874a62693",
   "execution_count": 15
  },
  {
   "cell_type": "code",
   "outputs": [],
   "source": [
    "import multiprocessing\n",
    "import random\n",
    "import time\n",
    "from datetime import datetime\n",
    "\n",
    "def worker():\n",
    "    # Generate a random sleep time between 0 and 1 second\n",
    "    sleep_time = random.random()\n",
    "    time.sleep(sleep_time)\n",
    "\n",
    "    # Get the current time\n",
    "    current_time = datetime.now().strftime('%Y-%m-%d %H:%M:%S')\n",
    "\n",
    "    # Print the current time\n",
    "    print(f\"Process {multiprocessing.current_process().name}: Current time is {current_time}\")\n",
    "\n",
    "if __name__ == '__main__':\n",
    "    # Create three separate processes\n",
    "    processes = []\n",
    "    for i in range(3):\n",
    "        process = multiprocessing.Process(target=worker, name=f\"Worker-{i+1}\")\n",
    "        processes.append(process)\n",
    "        process.start()\n",
    "\n",
    "    # Wait for all processes to finish\n",
    "    for process in processes:\n",
    "        process.join()\n"
   ],
   "metadata": {
    "collapsed": false,
    "ExecuteTime": {
     "end_time": "2024-04-25T01:29:44.357120Z",
     "start_time": "2024-04-25T01:29:44.172669Z"
    }
   },
   "id": "e15db6bb7cd87ff5",
   "execution_count": 16
  }
 ],
 "metadata": {
  "kernelspec": {
   "display_name": "Python 3",
   "language": "python",
   "name": "python3"
  },
  "language_info": {
   "codemirror_mode": {
    "name": "ipython",
    "version": 2
   },
   "file_extension": ".py",
   "mimetype": "text/x-python",
   "name": "python",
   "nbconvert_exporter": "python",
   "pygments_lexer": "ipython2",
   "version": "2.7.6"
  }
 },
 "nbformat": 4,
 "nbformat_minor": 5
}
